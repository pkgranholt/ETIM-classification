{
 "cells": [
  {
   "cell_type": "markdown",
   "metadata": {},
   "source": [
    "Machine Learning\n",
    "=====\n",
    "\n",
    "##### Important concepts\n",
    "* ENG - Electrical Number Group - a grouping used to divide product into rough categories.\n",
    "* ETIM class - a grouping used to divide products into detailed categories.\n",
    "* Technical description - a text field describing each product."
   ]
  },
  {
   "cell_type": "code",
   "execution_count": 1,
   "metadata": {
    "collapsed": true
   },
   "outputs": [],
   "source": [
    "# Import packages\n",
    "import matplotlib.pyplot as plt\n",
    "import numpy as np\n",
    "import os\n",
    "import pandas as pd\n",
    "import pickle\n",
    "import seaborn as sns\n",
    "from sklearn.feature_extraction.text import TfidfVectorizer\n",
    "from sklearn.feature_extraction.text import CountVectorizer\n",
    "from sklearn.model_selection import train_test_split\n",
    "from sklearn.naive_bayes import MultinomialNB\n",
    "import scipy.sparse as sp\n",
    "from stop_words import get_stop_words\n",
    "from sklearn.metrics import classification_report\n",
    "from collections import Counter\n",
    "from sklearn.metrics import confusion_matrix\n",
    "import csv\n",
    "from ipywidgets import widgets\n",
    "from IPython.display import display\n",
    "\n",
    "%config InlineBackend.figure_format = 'retina'\n",
    "\n",
    "# Change working directory to get the file\n",
    "os.chdir('/Users/pkg/Springboard')\n",
    "\n",
    "# Open pickled file from the data wrangling section and set working directory\n",
    "with open('data_wrangling.pickle', 'rb') as handle:\n",
    "    df = pickle.load(handle)\n",
    "    \n",
    "os.chdir('/Users/pkg/Springboard/Intermediate Data Science with Python/Python_Capstone')"
   ]
  },
  {
   "cell_type": "code",
   "execution_count": 2,
   "metadata": {
    "collapsed": true
   },
   "outputs": [],
   "source": [
    "# Sort by df by ETIM_classes for the clf.predict_proba-method later\n",
    "df = df.sort_values(['ETIM_class', 'ENG'], ascending=True)"
   ]
  },
  {
   "cell_type": "code",
   "execution_count": 3,
   "metadata": {},
   "outputs": [
    {
     "name": "stdout",
     "output_type": "stream",
     "text": [
      "labels'  shape: (202216,)\n",
      "ex_var's shape: (202216, 2)\n",
      "\n",
      "labels is of type <class 'pandas.core.series.Series'>\n",
      "ex_var is of type <class 'pandas.core.frame.DataFrame'>\n",
      "\n",
      "first label after sorting: EC000001\n",
      "first ENG after sorting: 11\n",
      "first technical description after sorting: Direkte tilkoblingsklemmer Al/Cu 70/300mm2,sett à 4 stk. L1/L2/L3/PEN\n"
     ]
    }
   ],
   "source": [
    "# Separating the labels from the rest of the data set\n",
    "labels = df['ETIM_class']\n",
    "ex_var = df[['ENG', 'Technical_description']]\n",
    "\n",
    "# Display some attributes of the dataset\n",
    "print(\"labels'  shape:\", labels.shape)\n",
    "print(\"ex_var's shape:\", ex_var.shape)\n",
    "print(\"\")\n",
    "print(\"labels is of type\", type(labels))\n",
    "print(\"ex_var is of type\", type(ex_var))\n",
    "print(\"\")\n",
    "print(\"first label after sorting:\", labels.iloc[0])\n",
    "print(\"first ENG after sorting:\", ex_var.iloc[0,0])\n",
    "print(\"first technical description after sorting:\", ex_var.iloc[0,1])"
   ]
  },
  {
   "cell_type": "code",
   "execution_count": 4,
   "metadata": {
    "collapsed": true
   },
   "outputs": [],
   "source": [
    "# Importing stop words that will be ignored\n",
    "stop_words = get_stop_words('norwegian')\n",
    "\n",
    "# Creating a Pandas Series of the technical descriptions\n",
    "text = df['Technical_description']\n",
    "\n",
    "# Creating the corpus\n",
    "vectorizer = CountVectorizer(stop_words=stop_words, ngram_range=(1,2), min_df=2)\n",
    "\n",
    "# Build the vocabulary\n",
    "vectorizer.fit(text)\n",
    "\n",
    "# Convert text to a bag of words, returns a Compressed Sparse Row matrix\n",
    "# This is suitable for a matrix that is primarily made up of zeroes.\n",
    "x = vectorizer.transform(text)"
   ]
  },
  {
   "cell_type": "code",
   "execution_count": 5,
   "metadata": {
    "collapsed": true
   },
   "outputs": [],
   "source": [
    "# Setting up X and y\n",
    "X = x\n",
    "y = labels\n",
    "\n",
    "# Create the test and training sets\n",
    "xtrain, xtest, ytrain, ytest = train_test_split(X, y, random_state=99)"
   ]
  },
  {
   "cell_type": "code",
   "execution_count": 6,
   "metadata": {},
   "outputs": [
    {
     "name": "stdout",
     "output_type": "stream",
     "text": [
      "Training accuracy: 0.9\n",
      "Testing accuracy 0.84\n"
     ]
    }
   ],
   "source": [
    "# Train the classifier over the training set, and test on the test set\n",
    "clf = MultinomialNB(alpha=0.0000000001).fit(xtrain, ytrain)\n",
    "NB_train_accuracy = clf.score(xtrain, ytrain)\n",
    "NB_test_accuracy = clf.score(xtest, ytest)\n",
    "\n",
    "# Accuracy scores for both the training and test sets\n",
    "print(\"Training accuracy:\", round(NB_train_accuracy, 2))\n",
    "print(\"Testing accuracy\", round(NB_test_accuracy, 2))"
   ]
  },
  {
   "cell_type": "code",
   "execution_count": 7,
   "metadata": {
    "collapsed": true
   },
   "outputs": [],
   "source": [
    "# Creating the classification report\n",
    "y_pred_train = clf.predict(xtrain)\n",
    "y_pred_test = clf.predict(xtest)\n",
    "\n",
    "#print(classification_report(y_pred_train, ytrain))\n",
    "#print(classification_report(y_pred_test, ytest))"
   ]
  },
  {
   "cell_type": "code",
   "execution_count": 8,
   "metadata": {
    "collapsed": true
   },
   "outputs": [],
   "source": [
    "# Creating technical description to be evaluated by the model\n",
    "text = 'dimmer'\n",
    "example = clf.predict_proba(vectorizer.transform([text])).flatten()"
   ]
  },
  {
   "cell_type": "code",
   "execution_count": 9,
   "metadata": {},
   "outputs": [
    {
     "data": {
      "text/plain": [
       "'EC001744'"
      ]
     },
     "execution_count": 9,
     "metadata": {},
     "output_type": "execute_result"
    }
   ],
   "source": [
    "# Display the predicted class\n",
    "test = clf.predict(vectorizer.transform([text]))\n",
    "test[0]"
   ]
  },
  {
   "cell_type": "code",
   "execution_count": 10,
   "metadata": {
    "collapsed": true
   },
   "outputs": [],
   "source": [
    "# Create a dictionary for  the classes and probabilities\n",
    "example_dict = dict(zip(sorted(ytrain.unique()), example))\n",
    "#example_dict"
   ]
  },
  {
   "cell_type": "code",
   "execution_count": 11,
   "metadata": {
    "scrolled": true
   },
   "outputs": [
    {
     "name": "stdout",
     "output_type": "stream",
     "text": [
      "{'EC001744': 0.20987080851972142, 'EC000025': 0.19697617181854982, 'EC002710': 0.12423120593071767, 'EC002706': 0.069734923591760034, 'EC001094': 0.044266738890940675}\n"
     ]
    },
    {
     "data": {
      "text/plain": [
       "['EC001744', 'EC000025', 'EC002710', 'EC002706', 'EC001094']"
      ]
     },
     "execution_count": 11,
     "metadata": {},
     "output_type": "execute_result"
    }
   ],
   "source": [
    "# Display the top 5 predictions, with classes and probabilities\n",
    "top5 = {k: example_dict[k] for k in sorted(example_dict, key=example_dict.__getitem__, reverse=True)[:5]}\n",
    "print(top5)\n",
    "sorted(example_dict, key=example_dict.__getitem__, reverse=True)[:5]"
   ]
  },
  {
   "cell_type": "code",
   "execution_count": null,
   "metadata": {
    "collapsed": true
   },
   "outputs": [],
   "source": []
  },
  {
   "cell_type": "code",
   "execution_count": 12,
   "metadata": {
    "scrolled": true
   },
   "outputs": [
    {
     "name": "stdout",
     "output_type": "stream",
     "text": [
      "(1814,) 1771\n"
     ]
    },
    {
     "data": {
      "text/plain": [
       "1771"
      ]
     },
     "execution_count": 12,
     "metadata": {},
     "output_type": "execute_result"
    }
   ],
   "source": [
    "# For the sorting to find the correct classes, it's vital that the classes in the\n",
    "# training set is used, not the labels for the whole dataset. The difference\n",
    "# is displayed beneath.\n",
    "print(labels.unique().shape, len(list(example_dict.values())))\n",
    "len(ytrain.unique())"
   ]
  },
  {
   "cell_type": "code",
   "execution_count": null,
   "metadata": {
    "collapsed": true
   },
   "outputs": [],
   "source": []
  },
  {
   "cell_type": "code",
   "execution_count": 13,
   "metadata": {
    "collapsed": true
   },
   "outputs": [],
   "source": [
    "# Dictionary to connect the ETIM-class-codes and the descriptions (in Norwegian)\n",
    "ETIM_dict = pd.read_csv('ETIM7.csv', header=None, sep=';', index_col=0).to_dict()[1]\n",
    "#ETIM_dict"
   ]
  },
  {
   "cell_type": "code",
   "execution_count": 14,
   "metadata": {},
   "outputs": [
    {
     "data": {
      "application/vnd.jupyter.widget-view+json": {
       "model_id": "f80f49f3930541399cfcc4c19b491322",
       "version_major": 2,
       "version_minor": 0
      },
      "text/plain": [
       "Text(value='Fyll inn teknisk beskrivelse her')"
      ]
     },
     "metadata": {},
     "output_type": "display_data"
    }
   ],
   "source": [
    "inputText = widgets.Text(value='Fyll inn teknisk beskrivelse her')\n",
    "\n",
    "# Create query\n",
    "def predict_ETIM(sender):\n",
    "\n",
    "    # Creating technical description to be evaluated by the model\n",
    "    text = inputText.value\n",
    "    example = clf.predict_proba(vectorizer.transform([text])).flatten()\n",
    "\n",
    "    # Display the predicted class\n",
    "    test = clf.predict(vectorizer.transform([text]))\n",
    "    #test[0]\n",
    "\n",
    "    # Create a dictionary for  the classes and probabilities\n",
    "    example_dict = dict(zip(sorted(ytrain.unique()), example))\n",
    "    #example_dict\n",
    "\n",
    "    # Display the top 5 predictions, with classes and probabilities\n",
    "    top5 = {k: example_dict[k] for k in sorted(example_dict, key=example_dict.__getitem__, reverse=True)[:5]}\n",
    "    #top5[test[0]]\n",
    "\n",
    "    # Shorten to integer percentage\n",
    "    #\"%.0f\" % (top5[test[0]] * 100)\n",
    "    top5s = sorted(example_dict, key=example_dict.__getitem__, reverse=True)[:5]\n",
    "\n",
    "    print('Tekst:', text)\n",
    "    print('')\n",
    "    \n",
    "    for i in range(len(top5)):\n",
    "\n",
    "        if top5[top5s[i]] < 0.05:\n",
    "            break\n",
    "        else:\n",
    "            print('Forslag', int(i+1), ':')\n",
    "            print('Forventet ETIM-klasse:', top5s[i], ETIM_dict[top5s[i]])\n",
    "            print('Forventet treffsikkerhet:', \"%.0f\" % (top5[top5s[i]] * 100), '%')\n",
    "            print('')\n",
    "    \n",
    "inputText.on_submit(predict_ETIM)\n",
    "inputText"
   ]
  },
  {
   "cell_type": "code",
   "execution_count": null,
   "metadata": {
    "collapsed": true
   },
   "outputs": [],
   "source": []
  },
  {
   "cell_type": "code",
   "execution_count": null,
   "metadata": {
    "collapsed": true
   },
   "outputs": [],
   "source": []
  },
  {
   "cell_type": "code",
   "execution_count": null,
   "metadata": {
    "collapsed": true
   },
   "outputs": [],
   "source": []
  },
  {
   "cell_type": "code",
   "execution_count": null,
   "metadata": {
    "collapsed": true
   },
   "outputs": [],
   "source": []
  },
  {
   "cell_type": "code",
   "execution_count": 15,
   "metadata": {},
   "outputs": [
    {
     "name": "stdout",
     "output_type": "stream",
     "text": [
      "FASTNØKKEL 1000V 23MM\n"
     ]
    },
    {
     "data": {
      "text/plain": [
       "103"
      ]
     },
     "execution_count": 15,
     "metadata": {},
     "output_type": "execute_result"
    }
   ],
   "source": [
    "## Importing Excel-file with technical descriptions that need to be classified\n",
    "\n",
    "# Assign spreadsheet filename to 'file'\n",
    "file = 'testimport.xlsx'\n",
    "\n",
    "# Load spreadsheet\n",
    "xl = pd.ExcelFile(file).parse('Sheet1', index_col='elnr')\n",
    "\n",
    "# See first technical description and length of file\n",
    "print(xl.iloc[0,0])\n",
    "len(xl)"
   ]
  },
  {
   "cell_type": "code",
   "execution_count": 16,
   "metadata": {},
   "outputs": [
    {
     "name": "stdout",
     "output_type": "stream",
     "text": [
      "(103, 1) <class 'pandas.core.frame.DataFrame'>\n"
     ]
    }
   ],
   "source": [
    "print(xl.shape, type(xl))"
   ]
  },
  {
   "cell_type": "code",
   "execution_count": null,
   "metadata": {
    "collapsed": true
   },
   "outputs": [],
   "source": []
  },
  {
   "cell_type": "code",
   "execution_count": 17,
   "metadata": {
    "collapsed": true
   },
   "outputs": [],
   "source": [
    "# Create an empty list to store the analysis results\n",
    "rows_list = []\n",
    "\n",
    "# Predict ETIM-classes for a number of technical descriptions (for use in analyze_xl, not standalone use)\n",
    "# For standalone use, see predict_ETIM()\n",
    "def predict_ETIM_raw(text):\n",
    "    \n",
    "    # Creating technical description to be evaluated by the model\n",
    "    example = clf.predict_proba(vectorizer.transform([text])).flatten()\n",
    "\n",
    "    # Display the predicted class\n",
    "    test = clf.predict(vectorizer.transform([text]))\n",
    "\n",
    "    # Create a dictionary for  the classes and probabilities\n",
    "    example_dict = dict(zip(sorted(ytrain.unique()), example))\n",
    "\n",
    "    # Top 5 predictions, with classes and probabilities\n",
    "    top5 = {k: example_dict[k] for k in sorted(example_dict, key=example_dict.__getitem__, reverse=True)[:5]}\n",
    "\n",
    "    # Top 5 predictions in sorted order\n",
    "    top5s = sorted(example_dict, key=example_dict.__getitem__, reverse=True)[:5]\n",
    "\n",
    "    for i in range(len(top5)):\n",
    "        \n",
    "        test = {text:[k for k in [top5s[i], ETIM_dict[top5s[i]], \"%.0f\" % (top5[top5s[i]] * 100)]]}\n",
    "        \n",
    "        if top5[top5s[i]] < 0.05:\n",
    "            break\n",
    "        else:\n",
    "            print(test)\n",
    "            temp_dict = {}\n",
    "            temp_dict.update(test)\n",
    "            rows_list.append(temp_dict)\n",
    "           "
   ]
  },
  {
   "cell_type": "code",
   "execution_count": null,
   "metadata": {
    "collapsed": true
   },
   "outputs": [],
   "source": [
    "# Run the analysis on the data from the Excel-file\n",
    "def analyze_xl(file):\n",
    "    \n",
    "    # Find text from Excel-file to analyze\n",
    "    for j in range(len(xl)):\n",
    "        predict_ETIM_raw(xl.iloc[j,0])\n",
    "        \n"
   ]
  },
  {
   "cell_type": "code",
   "execution_count": null,
   "metadata": {},
   "outputs": [
    {
     "name": "stdout",
     "output_type": "stream",
     "text": [
      "{'FASTNØKKEL 1000V 23MM': ['EC002130', 'Fastnøkkel', '100']}\n",
      "{'Vannpumpetang 117mm': ['EC002223', 'Vannpumpetang', '49']}\n",
      "{'Vannpumpetang 117mm': ['EC011919', 'Vannpumpetang', '41']}\n",
      "{'Vannpumpetang 117mm': ['EC011817', 'Tangsett', '7']}\n",
      "{'SKJØTEHYLSE, SKRU 630': ['EC000910', 'Endeavslutning', '100']}\n",
      "{'Dimmer LED 120W Tapas S100': ['EC000025', 'Dimmer', '100']}\n",
      "{'BRENDA Taklampe Matt Nikkel': ['EC001743', 'Pendelarmatur', '92']}\n",
      "{'Fib.panel 12xLCD SM Preterm': ['EC000748', 'Fiber pigtail', '100']}\n",
      "{'Doro Comfort 3000': ['EC001744', 'Spotlight', '85']}\n",
      "{'Doro Comfort 3000': ['EC002892', 'Tak og veggarmatur', '6']}\n",
      "{'Målebånd 10m 13mm stål': ['EC000149', 'Verktøysett', '100']}\n",
      "{'Heiseøre EVA-09 galv.': ['EC002600', 'Boks/kapslinger for montering på vegg/tak', '61']}\n",
      "{'Heiseøre EVA-09 galv.': ['EC000447', 'Koblingsklemmer', '22']}\n",
      "{'Heiseøre EVA-09 galv.': ['EC001005', 'Montasjemateriell for kabelføringssystem', '17']}\n",
      "{'Cat 5e installasjonskabel 305m': ['EC001262', 'Patchekabel, kobber', '98']}\n",
      "{'PRESSHYLSE AL-CU': ['EC000026', 'NH-skillekniv', '54']}\n",
      "{'PRESSHYLSE AL-CU': ['EC002790', 'Tilkoblingselement for Jording- og kortslutningsutstyr', '30']}\n",
      "{'PRESSHYLSE AL-CU': ['EC001053', 'Presskabelssko for aluminiumleder', '6']}\n",
      "{'Armatur 2x36W TC-L RADAR HFD': ['EC002892', 'Tak og veggarmatur', '100']}\n",
      "{'Dig.Termostat 750 F/ekst. ur': ['EC002288', 'Lite sikringsskap bestykket', '57']}\n",
      "{'Dig.Termostat 750 F/ekst. ur': ['EC001417', 'Logikkmodul', '35']}\n",
      "{'Nærværssensor E-1004N-AD': ['EC002925', 'Sensor /aktor kobling', '97']}\n",
      "{'Ultimate Lithium AA L91 4pk': ['EC000356', 'Batteri', '100']}\n",
      "{'HYDRAULHÅNDPRESSE C-HOVED': ['EC002620', 'Komponenter for utvidelse (koblingsskap)', '15']}\n",
      "{'HYDRAULHÅNDPRESSE C-HOVED': ['EC002809', 'Jordingslisse', '14']}\n",
      "{'HYDRAULHÅNDPRESSE C-HOVED': ['EC000456', 'Frontpanel (sikringskap)', '7']}\n",
      "{'HYDRAULHÅNDPRESSE C-HOVED': ['EC000747', 'Dør-/ betjeningstablå (koblingskap)', '7']}\n",
      "{'HYDRAULHÅNDPRESSE C-HOVED': ['EC000066', 'Kontaktor for vekselstrøm', '6']}\n",
      "{'Strømtransformator': ['EC002048', 'Målertrafo', '90']}\n",
      "{'Sagblad BIM SAIZ 32 BB super c': ['EC003459', 'Systemtilbehør for multimaskin, batteri, elektrisk, trykkluft', '78']}\n",
      "{'Sagblad BIM SAIZ 32 BB super c': ['EC002815', 'Bord-, kapp- og gjerdingssag, halvstasjonær, elektrisk', '21']}\n",
      "{'KRYMPESL TYNNV RØD': ['EC001288', 'Merkemateriell', '7']}\n",
      "{'Boks Plast 250X600X120MM IP67': ['EC000225', 'Styring- og meldeenheter kombinasjon, kapslet', '63']}\n",
      "{'Boks Plast 250X600X120MM IP67': ['EC000200', 'Kapsling for betjeningsmateriell', '28']}\n",
      "{'Boks Plast 250X600X120MM IP67': ['EC000762', 'Skjøteboks, fiber', '8']}\n",
      "{'KABELKNIV ERGO LD4352': ['EC000155', 'Kniv', '100']}\n",
      "{'NARVIK LED/8W/WH': ['EC001744', 'Spotlight', '98']}\n",
      "{'WIRE-OPPHENG STUD-FAST 45KG': ['EC003249', 'Data og kommunikasjonskabel', '100']}\n",
      "{'Skjøtekabel Wieland 3 m': ['EC001576', 'Nettkabel', '91']}\n",
      "{'Skjøtekabel Wieland 3 m': ['EC002587', 'Koblingssnor for pluggbart installasjonssystem', '8']}\n",
      "{'Power Cord, C19 to IEC309 16A,': ['EC000599', 'PLC-systemstrømforsyning', '92']}\n",
      "{'Power Cord, C19 to IEC309 16A,': ['EC002762', 'Power distribusjonsenhet (PDU)', '8']}\n",
      "{'Skuddspiker HC6 22 mm + 1 gass': ['EC000464', 'Festeklammer', '87']}\n",
      "{'Skuddspiker HC6 22 mm + 1 gass': ['EC001287', 'Betjeningsperre for bryter', '12']}\n",
      "{'Alarmsentral uten betjening': ['EC001260', 'Tohåndskontroller', '34']}\n",
      "{'Uskjermet alarmkabel, 6 leder': ['EC003249', 'Data og kommunikasjonskabel', '99']}\n",
      "{'Fiberadapter LCD SM snap Grønn': ['EC001129', 'Adapter for patchpanel fiber', '52']}\n",
      "{'Fiberadapter LCD SM snap Grønn': ['EC000752', 'Fiberoptisk kontakt', '47']}\n",
      "{'KRYMPESL TYNNV SORT': ['EC003250', 'Kabel < 1kV, bevegelig forlegging', '7']}\n",
      "{'KRYMPESL TYNNV SORT': ['EC000046', 'Kabelstrips', '6']}\n",
      "{'KRYMPESL TYNNV SORT': ['EC001288', 'Merkemateriell', '6']}\n",
      "{'PERMANENT SIGNALLYS EM 12-240': ['EC000066', 'Kontaktor for vekselstrøm', '100']}\n",
      "{'Blinkende lys mod. AMBER 230V': ['EC000232', 'Signalsøyleelement, optisk', '62']}\n",
      "{'Blinkende lys mod. AMBER 230V': ['EC001341', 'Roterende varsellys', '27']}\n",
      "{'Blinkende lys mod. AMBER 230V': ['EC001332', 'Blinkende vardellys', '11']}\n",
      "{'Blinkende lys mod. AMBER 230V': ['EC000232', 'Signalsøyleelement, optisk', '62']}\n",
      "{'Blinkende lys mod. AMBER 230V': ['EC001341', 'Roterende varsellys', '27']}\n",
      "{'Blinkende lys mod. AMBER 230V': ['EC001332', 'Blinkende vardellys', '11']}\n",
      "{'STOLPE SALT HØYSP 16M JBD 34CM': ['EC003516', 'Travers tilbehør', '78']}\n",
      "{'STOLPE SALT HØYSP 16M JBD 34CM': ['EC003515', 'Travers', '21']}\n",
      "{'SKIVE 3,2 DIN 9021 ST CR3+': ['EC000098', 'Underlagsskive', '100']}\n",
      "{'10\"\" nettlist 3 uttak u bryter': ['EC000191', 'Kabelvinde', '38']}\n",
      "{'10\"\" nettlist 3 uttak u bryter': ['EC001590', 'Installasjonsbryter', '21']}\n",
      "{'10\"\" nettlist 3 uttak u bryter': ['EC000330', 'Stikkontaktlist', '9']}\n",
      "{'10\"\" nettlist 3 uttak u bryter': ['EC000029', 'Bryter', '7']}\n",
      "{'10\"\" nettlist 3 uttak u bryter': ['EC001588', 'Elektronisk bryter', '5']}\n",
      "{'Sirius LED-Downlight 10W BørAl': ['EC001744', 'Spotlight', '100']}\n",
      "{'Armatur 1x30W T8 1200 stikk': ['EC002558', 'Lysteknisk tilbehør til lysarmaturer', '99']}\n",
      "{'Skjøtehylse, skru 120-240mm²': ['EC001063', 'Skruskjøtehylse', '63']}\n",
      "{'Skjøtehylse, skru 120-240mm²': ['EC001062', 'Avgreningsklemme', '37']}\n"
     ]
    }
   ],
   "source": [
    "# Run the analysis (prints results and writes to rows_list)\n",
    "analyze_xl(xl)"
   ]
  },
  {
   "cell_type": "code",
   "execution_count": null,
   "metadata": {},
   "outputs": [],
   "source": [
    "rows_list"
   ]
  },
  {
   "cell_type": "code",
   "execution_count": null,
   "metadata": {},
   "outputs": [],
   "source": [
    "# Convert the dictionary to a dataframe\n",
    "output_df = pd.DataFrame(rows_list).T\n",
    "output_df"
   ]
  },
  {
   "cell_type": "code",
   "execution_count": null,
   "metadata": {
    "scrolled": true
   },
   "outputs": [],
   "source": [
    "# Squeeze the values to the left\n",
    "def squeeze_nan(x):\n",
    "    original_columns = x.index.tolist()\n",
    "\n",
    "    squeezed = x.dropna()\n",
    "    squeezed.index = [original_columns[n] for n in range(squeezed.count())]\n",
    "\n",
    "    return squeezed.reindex(original_columns, fill_value=np.nan)\n",
    "\n",
    "# Run the function and remove rightmost columns with only Nan\n",
    "# Nr. of columns need to be correct according to output_df above\n",
    "output_df = output_df.apply(squeeze_nan, axis=1)\n",
    "output_df = output_df.dropna(axis=1, how='all')\n",
    "output_df"
   ]
  },
  {
   "cell_type": "code",
   "execution_count": null,
   "metadata": {},
   "outputs": [],
   "source": [
    "output_df1 = pd.concat([output_df[0], output_df[0].apply(pd.Series).add_prefix('nr_')], axis=1)\n",
    "output_df2 = pd.concat([output_df[1], output_df[1].apply(pd.Series).add_prefix('nr_')], axis=1)\n",
    "output_df3 = pd.concat([output_df[2], output_df[2].apply(pd.Series).add_prefix('nr_')], axis=1)\n",
    "output_df4 = pd.concat([output_df[3], output_df[3].apply(pd.Series).add_prefix('nr_')], axis=1)\n",
    "output_df5 = pd.concat([output_df[4], output_df[4].apply(pd.Series).add_prefix('nr_')], axis=1)"
   ]
  },
  {
   "cell_type": "code",
   "execution_count": null,
   "metadata": {},
   "outputs": [],
   "source": [
    "output_df = pd.concat([output_df1, output_df2, output_df3, output_df4, output_df5], axis=1)\n",
    "output_df"
   ]
  },
  {
   "cell_type": "code",
   "execution_count": null,
   "metadata": {},
   "outputs": [],
   "source": [
    "del output_df[0]\n",
    "del output_df[1]\n",
    "del output_df[2]\n",
    "del output_df[3]\n",
    "del output_df[4]\n",
    "\n",
    "output_df"
   ]
  },
  {
   "cell_type": "code",
   "execution_count": null,
   "metadata": {},
   "outputs": [],
   "source": [
    "output_df.columns = ['ETIM-kode', 'Navn', 'Forventet sannsynlighet', 'ETIM-kode', 'Navn', 'Forventet sannsynlighet', 'ETIM-kode', 'Navn', 'Forventet sannsynlighet']\n",
    "output_df"
   ]
  },
  {
   "cell_type": "code",
   "execution_count": null,
   "metadata": {
    "collapsed": true
   },
   "outputs": [],
   "source": []
  },
  {
   "cell_type": "code",
   "execution_count": null,
   "metadata": {
    "collapsed": true
   },
   "outputs": [],
   "source": []
  },
  {
   "cell_type": "code",
   "execution_count": null,
   "metadata": {
    "collapsed": true
   },
   "outputs": [],
   "source": []
  },
  {
   "cell_type": "code",
   "execution_count": null,
   "metadata": {
    "collapsed": true
   },
   "outputs": [],
   "source": [
    "# Export the file to an Excel-file\n",
    "writer = pd.ExcelWriter('testoutput.xlsx', engine='xlsxwriter')\n",
    "output_df.to_excel(writer, 'Sheet1')\n",
    "writer.save()"
   ]
  },
  {
   "cell_type": "code",
   "execution_count": null,
   "metadata": {
    "collapsed": true
   },
   "outputs": [],
   "source": []
  }
 ],
 "metadata": {
  "kernelspec": {
   "display_name": "Python 3",
   "language": "python",
   "name": "python3"
  },
  "language_info": {
   "codemirror_mode": {
    "name": "ipython",
    "version": 3
   },
   "file_extension": ".py",
   "mimetype": "text/x-python",
   "name": "python",
   "nbconvert_exporter": "python",
   "pygments_lexer": "ipython3",
   "version": "3.6.7"
  }
 },
 "nbformat": 4,
 "nbformat_minor": 2
}
