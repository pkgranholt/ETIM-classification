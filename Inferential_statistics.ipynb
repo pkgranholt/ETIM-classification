{
 "cells": [
  {
   "cell_type": "markdown",
   "metadata": {},
   "source": [
    "Inferential statistics\n",
    "=====\n",
    "\n",
    "##### Important concepts\n",
    "* ENG - Electrical Number Group - a grouping used to divide product into rough categories.\n",
    "* ETIM class - a grouping used to divide products into detailed categories.\n",
    "* Technical description - a text field describing each product."
   ]
  },
  {
   "cell_type": "code",
   "execution_count": 24,
   "metadata": {
    "collapsed": true
   },
   "outputs": [],
   "source": [
    "# Import packages\n",
    "import matplotlib.pyplot as plt\n",
    "import numpy as np\n",
    "import os\n",
    "import pandas as pd\n",
    "import pickle\n",
    "import seaborn as sns\n",
    "from sklearn.feature_extraction.text import TfidfVectorizer\n",
    "from sklearn.feature_extraction.text import CountVectorizer\n",
    "from scipy.stats import chisquare\n",
    "\n",
    "%config InlineBackend.figure_format = 'retina'\n",
    "\n",
    "# Change working directory to get the file\n",
    "os.chdir('/Users/pkg/Springboard')\n",
    "\n",
    "# Open pickled file from the data wrangling section and set working directory\n",
    "with open('data_storytelling.pickle', 'rb') as handle:\n",
    "    df = pickle.load(handle)\n",
    "    \n",
    "os.chdir('/Users/pkg/Springboard/Intermediate Data Science with Python/Python_Capstone')"
   ]
  },
  {
   "cell_type": "code",
   "execution_count": 82,
   "metadata": {},
   "outputs": [
    {
     "data": {
      "text/html": [
       "<div>\n",
       "<style>\n",
       "    .dataframe thead tr:only-child th {\n",
       "        text-align: right;\n",
       "    }\n",
       "\n",
       "    .dataframe thead th {\n",
       "        text-align: left;\n",
       "    }\n",
       "\n",
       "    .dataframe tbody tr th {\n",
       "        vertical-align: top;\n",
       "    }\n",
       "</style>\n",
       "<table border=\"1\" class=\"dataframe\">\n",
       "  <thead>\n",
       "    <tr style=\"text-align: right;\">\n",
       "      <th></th>\n",
       "      <th>EN_group</th>\n",
       "      <th>ETIM_class</th>\n",
       "      <th>Technical_description</th>\n",
       "    </tr>\n",
       "  </thead>\n",
       "  <tbody>\n",
       "    <tr>\n",
       "      <th>count</th>\n",
       "      <td>201274</td>\n",
       "      <td>201274</td>\n",
       "      <td>201274</td>\n",
       "    </tr>\n",
       "    <tr>\n",
       "      <th>unique</th>\n",
       "      <td>41</td>\n",
       "      <td>1813</td>\n",
       "      <td>109426</td>\n",
       "    </tr>\n",
       "    <tr>\n",
       "      <th>top</th>\n",
       "      <td>43</td>\n",
       "      <td>EC000042</td>\n",
       "      <td>Spasial serien består av stål Bokser typeS44,S...</td>\n",
       "    </tr>\n",
       "    <tr>\n",
       "      <th>freq</th>\n",
       "      <td>20721</td>\n",
       "      <td>5630</td>\n",
       "      <td>1772</td>\n",
       "    </tr>\n",
       "  </tbody>\n",
       "</table>\n",
       "</div>"
      ],
      "text/plain": [
       "       EN_group ETIM_class                              Technical_description\n",
       "count    201274     201274                                             201274\n",
       "unique       41       1813                                             109426\n",
       "top          43   EC000042  Spasial serien består av stål Bokser typeS44,S...\n",
       "freq      20721       5630                                               1772"
      ]
     },
     "execution_count": 82,
     "metadata": {},
     "output_type": "execute_result"
    }
   ],
   "source": [
    "# A quick reminder of what the dataset looks like\n",
    "df.describe()"
   ]
  },
  {
   "cell_type": "code",
   "execution_count": 83,
   "metadata": {},
   "outputs": [
    {
     "name": "stdout",
     "output_type": "stream",
     "text": [
      "(3803, 1)\n"
     ]
    },
    {
     "data": {
      "text/html": [
       "<div>\n",
       "<style>\n",
       "    .dataframe thead tr:only-child th {\n",
       "        text-align: right;\n",
       "    }\n",
       "\n",
       "    .dataframe thead th {\n",
       "        text-align: left;\n",
       "    }\n",
       "\n",
       "    .dataframe tbody tr th {\n",
       "        vertical-align: top;\n",
       "    }\n",
       "</style>\n",
       "<table border=\"1\" class=\"dataframe\">\n",
       "  <thead>\n",
       "    <tr style=\"text-align: right;\">\n",
       "      <th></th>\n",
       "      <th></th>\n",
       "      <th>freq</th>\n",
       "    </tr>\n",
       "    <tr>\n",
       "      <th>EN_group</th>\n",
       "      <th>ETIM_class</th>\n",
       "      <th></th>\n",
       "    </tr>\n",
       "  </thead>\n",
       "  <tbody>\n",
       "    <tr>\n",
       "      <th>16</th>\n",
       "      <th>EC000042</th>\n",
       "      <td>5615</td>\n",
       "    </tr>\n",
       "    <tr>\n",
       "      <th rowspan=\"2\" valign=\"top\">10</th>\n",
       "      <th>EC003250</th>\n",
       "      <td>5146</td>\n",
       "    </tr>\n",
       "    <tr>\n",
       "      <th>EC003248</th>\n",
       "      <td>4819</td>\n",
       "    </tr>\n",
       "    <tr>\n",
       "      <th>43</th>\n",
       "      <th>EC000228</th>\n",
       "      <td>3210</td>\n",
       "    </tr>\n",
       "    <tr>\n",
       "      <th>10</th>\n",
       "      <th>EC003251</th>\n",
       "      <td>2845</td>\n",
       "    </tr>\n",
       "  </tbody>\n",
       "</table>\n",
       "</div>"
      ],
      "text/plain": [
       "                     freq\n",
       "EN_group ETIM_class      \n",
       "16       EC000042    5615\n",
       "10       EC003250    5146\n",
       "         EC003248    4819\n",
       "43       EC000228    3210\n",
       "10       EC003251    2845"
      ]
     },
     "execution_count": 83,
     "metadata": {},
     "output_type": "execute_result"
    }
   ],
   "source": [
    "# Five most popular ETIM-classes, with corresponding ENG and frequency\n",
    "grouped = pd.DataFrame(df.groupby(['EN_group', 'ETIM_class']).size())\n",
    "grouped.columns = ['freq']\n",
    "grouped = grouped.sort_values(['freq'],ascending=False)\n",
    "\n",
    "print(grouped.shape)\n",
    "grouped.head()"
   ]
  },
  {
   "cell_type": "markdown",
   "metadata": {},
   "source": [
    "Let's take a closer look at the sets of words from these five ETIM-classes; what would be the dictionaries for the machine learning later. For now, I'll compare the first five, to see if the number of words within each are more or less the same, or if there are any patterns here."
   ]
  },
  {
   "cell_type": "code",
   "execution_count": 86,
   "metadata": {},
   "outputs": [
    {
     "data": {
      "text/plain": [
       "[5630, 5183, 5131, 3211, 2851]"
      ]
     },
     "execution_count": 86,
     "metadata": {},
     "output_type": "execute_result"
    }
   ],
   "source": [
    "# Number of words in the technical descriptions of the most popular ETIM-class\n",
    "text1 = df[df['ETIM_class'] == 'EC000042']['Technical_description']\n",
    "vectorizer1 = CountVectorizer()\n",
    "vectorizer1.fit(text1)\n",
    "x1 = vectorizer1.transform(text1)\n",
    "x1 = x1.toarray()\n",
    "\n",
    "# Number of words in the technical descriptions of the second most popular ETIM-class\n",
    "text2 = df[df['ETIM_class'] == 'EC003250']['Technical_description']\n",
    "vectorizer2 = CountVectorizer()\n",
    "vectorizer2.fit(text2)\n",
    "x2 = vectorizer2.transform(text2)\n",
    "x2 = x2.toarray()\n",
    "\n",
    "# Number of words in the technical descriptions of the third most popular ETIM-class\n",
    "text3 = df[df['ETIM_class'] == 'EC003248']['Technical_description']\n",
    "vectorizer3 = CountVectorizer()\n",
    "vectorizer3.fit(text3)\n",
    "x3 = vectorizer3.transform(text3)\n",
    "x3 = x3.toarray()\n",
    "\n",
    "# Number of words in the technical descriptions of the fourth most popular ETIM-class\n",
    "text4 = df[df['ETIM_class'] == 'EC000228']['Technical_description']\n",
    "vectorizer4 = CountVectorizer()\n",
    "vectorizer4.fit(text4)\n",
    "x4 = vectorizer4.transform(text4)\n",
    "x4 = x4.toarray()\n",
    "\n",
    "# Number of words in the technical descriptions of the fifth most popular ETIM-class\n",
    "text5 = df[df['ETIM_class'] == 'EC003251']['Technical_description']\n",
    "vectorizer5 = CountVectorizer()\n",
    "vectorizer5.fit(text5)\n",
    "x5 = vectorizer5.transform(text5)\n",
    "x5 = x5.toarray()\n",
    "\n",
    "# Length of the dictionaries\n",
    "dictionaries_lengths = [len(x1), len(x2), len(x3), len(x4), len(x5)]\n",
    "dictionaries_lengths"
   ]
  },
  {
   "cell_type": "markdown",
   "metadata": {},
   "source": [
    "It's not so easy to see any patterns from this alone, let's plot the length of the dictionaries with the number of products for these top five."
   ]
  },
  {
   "cell_type": "code",
   "execution_count": 87,
   "metadata": {},
   "outputs": [
    {
     "data": {
      "image/png": "[encoded data removed]",
      "text/plain": [
       "<matplotlib.figure.Figure at 0x134e0c0b8>"
      ]
     },
     "metadata": {
      "image/png": {
       "height": 358,
       "width": 533
      }
     },
     "output_type": "display_data"
    }
   ],
   "source": [
    "# Scatterplot with the frequencies and dictionary lengths of the five most popular ETIM-classes\n",
    "plt.scatter(x=grouped.head()['freq'], y=dictionaries_lengths)\n",
    "plt.xlabel('Frequency of ETIM-class')\n",
    "plt.ylabel('Dictionary length')\n",
    "plt.title('Comparison between frequency of ETIM-classes and dictionary lenghts for those ETIM-classes')\n",
    "plt.show()"
   ]
  },
  {
   "cell_type": "markdown",
   "metadata": {},
   "source": [
    "Note that the x- and y-axes do not start at zero. From the plot there seems to be a pattern where higher frequency products within an ETIM-class correlates with the dictionary length for that ETIM-class. Perhaps not too surprising, but let's test the correlation between the two."
   ]
  },
  {
   "cell_type": "code",
   "execution_count": 94,
   "metadata": {},
   "outputs": [
    {
     "data": {
      "text/plain": [
       "0.9949476368211202"
      ]
     },
     "execution_count": 94,
     "metadata": {},
     "output_type": "execute_result"
    }
   ],
   "source": [
    "# Correlation between the two\n",
    "np.corrcoef(x=grouped.head()['freq'], y=dictionaries_lengths)[0,1]"
   ]
  },
  {
   "cell_type": "markdown",
   "metadata": {},
   "source": [
    "That's nearly a one-to-one correlation, meaning that when the frequency increases with one, the dictionary lenght increases by almost one."
   ]
  }
 ],
 "metadata": {
  "kernelspec": {
   "display_name": "Python 3",
   "language": "python",
   "name": "python3"
  },
  "language_info": {
   "codemirror_mode": {
    "name": "ipython",
    "version": 3
   },
   "file_extension": ".py",
   "mimetype": "text/x-python",
   "name": "python",
   "nbconvert_exporter": "python",
   "pygments_lexer": "ipython3",
   "version": "3.6.1"
  }
 },
 "nbformat": 4,
 "nbformat_minor": 2
}
