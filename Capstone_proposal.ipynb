{
 "cells": [
  {
   "cell_type": "markdown",
   "metadata": {},
   "source": [
    "Intermediate Python Data Science Capstone Project\n",
    "----------------------------------------------\n",
    "-------------------------------------------------"
   ]
  },
  {
   "cell_type": "markdown",
   "metadata": {},
   "source": [
    "### The Client\n",
    "\n",
    "The Norwegian Electrical Trade Organisation (EFO) works for the suppliers and wholesalers of electrotechnical equipment and solutions. This spans products from a single lightbulb to the largest infrastructure projects. With 500 member companies, their members' portfolios cover almost every type of electrotechnical product.\n",
    "\n",
    "EFO has a product database that suppliers, wholesalers and installers use to communicate about products and their properties. There are about 300,000 products registered with EFO, most of which are active and currently accessible. As part of their mission to be the connector between the different roles in the industry, they have carefully selected the properties that products that are registered with them need to have. They evaluate the products that are registered with them to make sure they have the necessary data.\n",
    "\n",
    "\n",
    "\n",
    "### The Assignment\n",
    "\n",
    "There are many standards that electrotechnical products need to be classified by. One of the most important ones is the ETIM (European Technical Information Model) classification model. There are at the time of writing 4725 ETIM classes, where 3041 of these are the most relevant for EFO's members. It is up to the member companies who own the products to correctly identify which ETIM class each product belongs to. There are [tools to look up the different classes](https://prod.etim-international.com/class# \"ETIM-international's Classification Management Tool), but as a manual process, it can be time-consuming. EFO would like to assist in this task, by creating a machine learning model which can suggest which ETIM class each product belongs in.\n",
    "\n",
    "\n",
    "\n",
    "### The Data\n",
    "\n",
    "The data is given from the product database, from a SQL-querty written before the start of the project.\n",
    "\n",
    "\n",
    "### Feature selection\n",
    "\n",
    "In the product database, there can be several hundreds of features per product. Some examples of features are physical dimensions, logistical data, certifications and classifications. When one is to register a new prodcut, it's usually a good idea to start with the most critical features. The one prioritized in this project will be the ETIM class. An ETIM class describes on a general level what the product is. One example is [dimmers](https://prod.etim-international.com/Class/Details/?classversion=7&classid=EC000025&ref=%2FClass%2FDetails%2F%3F). There are many different types of dimmers, with many different features, made by many different manufacturers. But they can all be classified as dimmers. Further segmentation is based on ETIM features, but that will not be a part of this project.\n",
    "\n",
    "Based on the domain knowledge from the experts at EFO, there are two factors that go in to the selection of features. The first is that the features are thought to be the most relevant for predicting the ETIM class. The second is that it should be features that are registered early and easily. In other words, if one already has classified a product in other classification models, adding the ETIM class is considered trivial. But this is not altogether a reasonable expectation, and therefore we will use just two features from the database to predict the ETIM class.\n",
    "\n",
    "##### Feature 1 - Electrical number group\n",
    "All products in EFO's product database have a seven-digit unique identifier. The first two digits are what is called the Electrical Number Group (ENG), which is a very rough grouping of the products. For instance, if the first two digits are \"10\", the product is either a cable of some sort, or a product related to cables. The seven-digit identifier is by definition the first piece of information that is stored about any product in the EFO database, so it is both early and easily registered.\n",
    "\n",
    "The ENG is widely used in the industry, and if a product has been mis-classified, it will most likely not be able to sell through wholesalers for instance, who are strict about having the correct ENG. For this project, it means we can assume the ENGs are correct without any further testing.\n",
    "\n",
    "##### Feature 2 - Technical description\n",
    "All products in EFO's product database have a text field with a description of the product and its features. This field goes decades back, and is a mandatory field for all products. It is therefore well known, and easily completed. Many member companies use standard text from their product cataloges, so for many, it is a copy-paste job. For others, it is simply a matter of describing the most pertinent features of their product, which all product managers can do with ease. The technical desription is one of the first fields that are entered for all new products in the database.\n",
    "\n",
    "There are few demands or restrictions on the technical description, so it's expected that there is quite a bit of variety. The domain experts also say that for similar products, the same text is sometimes used. The text itself can be a little technical, and usually includes the basic facts about the product. Here is an example (in Norwegian):\n",
    "\n",
    "> VDF/EMC frekvensomformerkabel med symmetrisk jordleder. Dobbel skjerming bestående av folie og flettet fortinnet kobberskjerm. Laget for å gi lavest mulig koblingsimpedans. Kan benyttes utendørs. For spenning 0,6/1Kv med en testspenning på 4000V\n",
    "\n",
    "This is the description of a specific type of cable, which is explicitly mentioned at the end of the second word \"-kabel\". Additionally, there are many features described.\n",
    "\n",
    "The technical descriptions will be read and processed to extract the words, numbers or abbreviations that help predict the correct ETIM class.\n",
    "\n",
    "\n",
    "### Outline for solving the problem\n",
    "\n",
    "The preliminary solution is to build a model using Multinomial Naive Bayes and Logistic Regression.\n",
    "\n",
    "\n",
    "### Deliverables\n",
    "\n",
    "A fine-tuned model that best predicts which ETIM class a product belongs to. This will be presented in a document with both explanatory text and the code for creating the model. Finally a slide deck for easy presentation will also be created."
   ]
  },
  {
   "cell_type": "code",
   "execution_count": null,
   "metadata": {
    "collapsed": true
   },
   "outputs": [],
   "source": []
  }
 ],
 "metadata": {
  "kernelspec": {
   "display_name": "Python 3",
   "language": "python",
   "name": "python3"
  },
  "language_info": {
   "codemirror_mode": {
    "name": "ipython",
    "version": 3
   },
   "file_extension": ".py",
   "mimetype": "text/x-python",
   "name": "python",
   "nbconvert_exporter": "python",
   "pygments_lexer": "ipython3",
   "version": "3.6.1"
  }
 },
 "nbformat": 4,
 "nbformat_minor": 2
}
