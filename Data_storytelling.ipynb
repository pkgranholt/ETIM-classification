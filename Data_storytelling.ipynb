{
 "cells": [
  {
   "cell_type": "markdown",
   "metadata": {},
   "source": [
    "Data storytelling\n",
    "====="
   ]
  },
  {
   "cell_type": "code",
   "execution_count": null,
   "metadata": {
    "collapsed": true
   },
   "outputs": [],
   "source": [
    "# Some basic statistics\n",
    "print(df.describe())\n",
    "\n",
    "# How many of each ETIM-class are there within each elnr group?\n",
    "ETIM_counts = df['ETIM_class'].value_counts()\n",
    "Elnr_counts = df['EN_group'].value_counts()\n",
    "\n",
    "grouped = pd.DataFrame(df.groupby(['EN_group', 'ETIM_class']).size())\n",
    "grouped.columns = ['freq']\n",
    "\n",
    "grouped = grouped.sort_values(['counts'],ascending=False).sort_index(axis=0,\n",
    "                             level='EN_group', ascending=True,\n",
    "                             sort_remaining=False)\n",
    "\n",
    "print(grouped.head(20))\n",
    "print(grouped.shape)"
   ]
  }
 ],
 "metadata": {
  "kernelspec": {
   "display_name": "Python 3",
   "language": "python",
   "name": "python3"
  },
  "language_info": {
   "codemirror_mode": {
    "name": "ipython",
    "version": 3
   },
   "file_extension": ".py",
   "mimetype": "text/x-python",
   "name": "python",
   "nbconvert_exporter": "python",
   "pygments_lexer": "ipython3",
   "version": "3.6.1"
  }
 },
 "nbformat": 4,
 "nbformat_minor": 2
}
