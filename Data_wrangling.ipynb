{
 "cells": [
  {
   "cell_type": "markdown",
   "metadata": {},
   "source": [
    "Data Wrangling\n",
    "======="
   ]
  },
  {
   "cell_type": "markdown",
   "metadata": {},
   "source": [
    "### Initial wrangling\n",
    "\n",
    "The data for this project was selected as a SQL-query from the EFO product database. Because of the size of the database and the extent of the query, it was decided that this will not be a part of this project. The first draft of the query (before optimization) was estimated to run for about 30 hours in order to give all the ouput. There were then several rounds of optimization, and the final query ran for about eight minutes on a regular computer.\n",
    "\n",
    "There are different states that a product goes through in the database. It can be a draft, active, retired or a handfull of other states. The output of the initial query included all active products from the database and all features. This is a dataframe with 238 049 active products, each with 125 features."
   ]
  },
  {
   "cell_type": "code",
   "execution_count": 1,
   "metadata": {},
   "outputs": [
    {
     "name": "stderr",
     "output_type": "stream",
     "text": [
      "/anaconda/lib/python3.6/site-packages/IPython/core/interactiveshell.py:2717: DtypeWarning: Columns (2,3,4,7,10,11,12,13,18,19,20,22,24,25,26,30,31,32,33,34,35,36,38,40,41,43,44,47,48,49,50,51,52,54,56,58,60,61,62,63,64,65,66,67,68,69,72,73,74,77,80,81,82,83,84) have mixed types. Specify dtype option on import or set low_memory=False.\n",
      "  interactivity=interactivity, compiler=compiler, result=result)\n"
     ]
    },
    {
     "data": {
      "text/plain": [
       "(238049, 125)"
      ]
     },
     "execution_count": 1,
     "metadata": {},
     "output_type": "execute_result"
    }
   ],
   "source": [
    "# Import packages\n",
    "import matplotlib.pyplot as plt\n",
    "import os\n",
    "import pandas as pd\n",
    "import pickle\n",
    "\n",
    "# Change working directory to get the file\n",
    "os.chdir('/Users/pkg/Springboard')\n",
    "\n",
    "# Read file and set working directory\n",
    "df = pd.read_csv('Resultat.csv', sep=';')\n",
    "os.chdir('/Users/pkg/Springboard/Intermediate Data Science with Python/Python_Capstone')\n",
    "\n",
    "# Shape of the dataframe\n",
    "df.shape"
   ]
  },
  {
   "cell_type": "markdown",
   "metadata": {},
   "source": [
    "The feature ProductNumber is the unique ID (Elnummer) that all products have, and that will be used to identify all products. The ProductNumber also have an interesting property; the first two digits describe with product category the product belongs in. For instance, if the first two digits are \"10\", the product is either a cable or a product related to cables. This is stored as a separate feature called \"ENG\" (Elnummergruppe)."
   ]
  },
  {
   "cell_type": "code",
   "execution_count": 2,
   "metadata": {
    "collapsed": true
   },
   "outputs": [],
   "source": [
    "# Set the product number as index\n",
    "df = df.set_index('ProductNumber')\n",
    "\n",
    "# Only keep the necessary columns for the project and change the column names\n",
    "df = df[['ETIM klasse','Teknisk beskrivelse']]\n",
    "df.columns = ['ETIM_class','Technical_description']\n",
    "df['ENG'] = df.index.astype(str).str[0:2]\n",
    "df = df[['ENG','ETIM_class','Technical_description']]"
   ]
  },
  {
   "cell_type": "markdown",
   "metadata": {},
   "source": [
    "After isolating the pertinent features for the prediction, the dataframe is considearbly smaller."
   ]
  },
  {
   "cell_type": "code",
   "execution_count": 3,
   "metadata": {},
   "outputs": [
    {
     "name": "stdout",
     "output_type": "stream",
     "text": [
      "(238049, 3)\n"
     ]
    },
    {
     "data": {
      "text/html": [
       "<div>\n",
       "<style>\n",
       "    .dataframe thead tr:only-child th {\n",
       "        text-align: right;\n",
       "    }\n",
       "\n",
       "    .dataframe thead th {\n",
       "        text-align: left;\n",
       "    }\n",
       "\n",
       "    .dataframe tbody tr th {\n",
       "        vertical-align: top;\n",
       "    }\n",
       "</style>\n",
       "<table border=\"1\" class=\"dataframe\">\n",
       "  <thead>\n",
       "    <tr style=\"text-align: right;\">\n",
       "      <th></th>\n",
       "      <th>ENG</th>\n",
       "      <th>ETIM_class</th>\n",
       "      <th>Technical_description</th>\n",
       "    </tr>\n",
       "    <tr>\n",
       "      <th>ProductNumber</th>\n",
       "      <th></th>\n",
       "      <th></th>\n",
       "      <th></th>\n",
       "    </tr>\n",
       "  </thead>\n",
       "  <tbody>\n",
       "    <tr>\n",
       "      <th>1000000</th>\n",
       "      <td>10</td>\n",
       "      <td>EC003251</td>\n",
       "      <td>VDF/EMC frekvensomformerkabel med symmetrisk j...</td>\n",
       "    </tr>\n",
       "    <tr>\n",
       "      <th>1000001</th>\n",
       "      <td>10</td>\n",
       "      <td>EC003251</td>\n",
       "      <td>VDF/EMC frekvensomformerkabel med symmetrisk j...</td>\n",
       "    </tr>\n",
       "    <tr>\n",
       "      <th>1000003</th>\n",
       "      <td>10</td>\n",
       "      <td>EC003251</td>\n",
       "      <td>VDF/EMC frekvensomformerkabel med symmetrisk j...</td>\n",
       "    </tr>\n",
       "    <tr>\n",
       "      <th>1000004</th>\n",
       "      <td>10</td>\n",
       "      <td>EC003251</td>\n",
       "      <td>VDF/EMC frekvensomformerkabel med symmetrisk j...</td>\n",
       "    </tr>\n",
       "    <tr>\n",
       "      <th>1000005</th>\n",
       "      <td>10</td>\n",
       "      <td>EC003251</td>\n",
       "      <td>VDF/EMC frekvensomformerkabel med symmetrisk j...</td>\n",
       "    </tr>\n",
       "  </tbody>\n",
       "</table>\n",
       "</div>"
      ],
      "text/plain": [
       "              ENG ETIM_class  \\\n",
       "ProductNumber                  \n",
       "1000000        10   EC003251   \n",
       "1000001        10   EC003251   \n",
       "1000003        10   EC003251   \n",
       "1000004        10   EC003251   \n",
       "1000005        10   EC003251   \n",
       "\n",
       "                                           Technical_description  \n",
       "ProductNumber                                                     \n",
       "1000000        VDF/EMC frekvensomformerkabel med symmetrisk j...  \n",
       "1000001        VDF/EMC frekvensomformerkabel med symmetrisk j...  \n",
       "1000003        VDF/EMC frekvensomformerkabel med symmetrisk j...  \n",
       "1000004        VDF/EMC frekvensomformerkabel med symmetrisk j...  \n",
       "1000005        VDF/EMC frekvensomformerkabel med symmetrisk j...  "
      ]
     },
     "execution_count": 3,
     "metadata": {},
     "output_type": "execute_result"
    }
   ],
   "source": [
    "# Shape of the smaller dataframe\n",
    "print(df.shape)\n",
    "df.head()"
   ]
  },
  {
   "cell_type": "markdown",
   "metadata": {},
   "source": [
    "Let's see how many missing values there are."
   ]
  },
  {
   "cell_type": "code",
   "execution_count": 4,
   "metadata": {},
   "outputs": [
    {
     "name": "stdout",
     "output_type": "stream",
     "text": [
      "0 0 35830 3\n",
      "              ENG ETIM_class  \\\n",
      "ProductNumber                  \n",
      "1000015        10        NaN   \n",
      "1001035        10        NaN   \n",
      "1001036        10        NaN   \n",
      "1001051        10        NaN   \n",
      "1001052        10        NaN   \n",
      "\n",
      "                                           Technical_description  \n",
      "ProductNumber                                                     \n",
      "1000015        VDF/EMC frekvensomformerkabel med symmetrisk j...  \n",
      "1001035              Elektrisk håndkletørker for kjøkken og bad.  \n",
      "1001036                         Elektrisk håndkletørker for bad.  \n",
      "1001051        TFP varmekabelmatte   Lavtbyggende varmekabelm...  \n",
      "1001052        TFP varmekabelmatte   Lavtbyggende varmekabelm...  \n"
     ]
    },
    {
     "data": {
      "text/html": [
       "<div>\n",
       "<style>\n",
       "    .dataframe thead tr:only-child th {\n",
       "        text-align: right;\n",
       "    }\n",
       "\n",
       "    .dataframe thead th {\n",
       "        text-align: left;\n",
       "    }\n",
       "\n",
       "    .dataframe tbody tr th {\n",
       "        vertical-align: top;\n",
       "    }\n",
       "</style>\n",
       "<table border=\"1\" class=\"dataframe\">\n",
       "  <thead>\n",
       "    <tr style=\"text-align: right;\">\n",
       "      <th></th>\n",
       "      <th>ENG</th>\n",
       "      <th>ETIM_class</th>\n",
       "      <th>Technical_description</th>\n",
       "    </tr>\n",
       "    <tr>\n",
       "      <th>ProductNumber</th>\n",
       "      <th></th>\n",
       "      <th></th>\n",
       "      <th></th>\n",
       "    </tr>\n",
       "  </thead>\n",
       "  <tbody>\n",
       "    <tr>\n",
       "      <th>2462085</th>\n",
       "      <td>24</td>\n",
       "      <td>EC002027</td>\n",
       "      <td>NaN</td>\n",
       "    </tr>\n",
       "    <tr>\n",
       "      <th>2462086</th>\n",
       "      <td>24</td>\n",
       "      <td>EC002027</td>\n",
       "      <td>NaN</td>\n",
       "    </tr>\n",
       "    <tr>\n",
       "      <th>2462091</th>\n",
       "      <td>24</td>\n",
       "      <td>EC002620</td>\n",
       "      <td>NaN</td>\n",
       "    </tr>\n",
       "  </tbody>\n",
       "</table>\n",
       "</div>"
      ],
      "text/plain": [
       "              ENG ETIM_class Technical_description\n",
       "ProductNumber                                     \n",
       "2462085        24   EC002027                   NaN\n",
       "2462086        24   EC002027                   NaN\n",
       "2462091        24   EC002620                   NaN"
      ]
     },
     "execution_count": 4,
     "metadata": {},
     "output_type": "execute_result"
    }
   ],
   "source": [
    "# Number of missing values in the index and columns\n",
    "print(\n",
    "    df.index.isnull().sum(),\n",
    "    df.ENG.isnull().sum(),\n",
    "    df.ETIM_class.isnull().sum(),\n",
    "    df.Technical_description.isnull().sum()\n",
    ")\n",
    "\n",
    "# Examples of rows with missing values\n",
    "print(df[df.ETIM_class.isnull()].head())\n",
    "df[df.Technical_description.isnull()]"
   ]
  },
  {
   "cell_type": "markdown",
   "metadata": {},
   "source": [
    "The ProductNumber has no missing values - good. There are automatically no missing values in the ENG feature, as this was created from the ProductNumber feature. The ETIM class has some missing values, which won't help to predict other ETIM classes. These will simply be removed here, but they could be an interesting \"test\" group later. There are three products that don't have a technical description. These has already been fixed in the product database, but as they're neglible for this project, they will be removed."
   ]
  },
  {
   "cell_type": "code",
   "execution_count": 5,
   "metadata": {},
   "outputs": [
    {
     "data": {
      "text/plain": [
       "(202216, 3)"
      ]
     },
     "execution_count": 5,
     "metadata": {},
     "output_type": "execute_result"
    }
   ],
   "source": [
    "df = df.dropna()\n",
    "df.shape"
   ]
  },
  {
   "cell_type": "markdown",
   "metadata": {},
   "source": [
    "This leaves in excess of 200 000 products with no missing values, which should be sufficient."
   ]
  },
  {
   "cell_type": "code",
   "execution_count": 6,
   "metadata": {
    "collapsed": true
   },
   "outputs": [],
   "source": [
    "# Set working directory and save the data set as a pickled object.\n",
    "os.chdir('/Users/pkg/Springboard')\n",
    "with open('data_wrangling.pickle', 'wb') as handle:\n",
    "    pickle.dump(df, handle, protocol=pickle.HIGHEST_PROTOCOL)"
   ]
  }
 ],
 "metadata": {
  "kernelspec": {
   "display_name": "Python 3",
   "language": "python",
   "name": "python3"
  },
  "language_info": {
   "codemirror_mode": {
    "name": "ipython",
    "version": 3
   },
   "file_extension": ".py",
   "mimetype": "text/x-python",
   "name": "python",
   "nbconvert_exporter": "python",
   "pygments_lexer": "ipython3",
   "version": "3.6.1"
  }
 },
 "nbformat": 4,
 "nbformat_minor": 2
}
